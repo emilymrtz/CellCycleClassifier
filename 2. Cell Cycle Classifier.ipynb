{
 "cells": [
  {
   "cell_type": "markdown",
   "metadata": {},
   "source": [
    "# Goals and notebook description"
   ]
  },
  {
   "cell_type": "markdown",
   "metadata": {},
   "source": [
    "The purpose of this notebook:\n",
    "- develop a method to quanttify and classify cells throughout the cell cycle using machine learning.\n",
    "\n",
    "Input: \n",
    "- directory where all images are uploaded. \n",
    "\n",
    "Outputs:\n",
    "- datatable that summarizes how many cells are in each stage per image. \n",
    "- datable with the ID of each cell and what stage it is in.\n",
    "- annotated images with cell IDs.\n",
    "\n",
    "All of this should be wrapped in a master function that carries out the entire pipeline."
   ]
  },
  {
   "cell_type": "markdown",
   "metadata": {},
   "source": [
    "# Setup"
   ]
  },
  {
   "cell_type": "markdown",
   "metadata": {},
   "source": [
    "## Installation of libraries"
   ]
  },
  {
   "cell_type": "markdown",
   "metadata": {},
   "source": [
    "This section installs all the necessary libraries with their dependencies. When adding a library for simplicity just add it to the cell below. "
   ]
  },
  {
   "cell_type": "code",
   "execution_count": 4,
   "metadata": {
    "scrolled": false
   },
   "outputs": [
    {
     "name": "stderr",
     "output_type": "stream",
     "text": [
      "Updating HTML index of packages in '.Library'\n",
      "Making 'packages.html' ... done\n",
      "also installing the dependencies ‘ModelMetrics’, ‘recipes’\n",
      "\n",
      "Updating HTML index of packages in '.Library'\n",
      "Making 'packages.html' ... done\n"
     ]
    }
   ],
   "source": [
    "install.packages('keras')\n",
    "install.packages('caret')"
   ]
  },
  {
   "cell_type": "markdown",
   "metadata": {},
   "source": [
    "## Running libraries"
   ]
  },
  {
   "cell_type": "markdown",
   "metadata": {},
   "source": [
    "This section runs the libraries that we installed in the previous section."
   ]
  },
  {
   "cell_type": "code",
   "execution_count": 7,
   "metadata": {},
   "outputs": [],
   "source": [
    "library(keras)\n",
    "library(caret)\n",
    "library(ggplot2)"
   ]
  },
  {
   "cell_type": "markdown",
   "metadata": {},
   "source": [
    "# INSTRUCTIONS: DELETE WHEN DONE"
   ]
  },
  {
   "cell_type": "markdown",
   "metadata": {},
   "source": [
    "To get you started I have outlined below the steps that you need to take in order to carry out the task. Keep in mind that you are working as a team so decide among yourselves how you want to split the work and what syntax (when naming objects) you are going to use. \n",
    "\n",
    "1. Import and format data.\n",
    "2. Segment cells (define dimensions in pixels for what is a cell) - create a list in which you have segmented all cells in an image. Remember to create a unique ID that takes into account where in the image and what image each cell is coming from.\n",
    "3. Machine learning magic.... This is where your own creativity takes place -> build architecture, train model, predict, and check your prediction. Remeber to always set a small part of the annotated data to be predicted.\n",
    "\n",
    "It is super important that you communicate and synergize with your group in order to accomplish the task! Please use github as a version control manager. Good luck. "
   ]
  }
 ],
 "metadata": {
  "kernelspec": {
   "display_name": "R",
   "language": "R",
   "name": "ir"
  },
  "language_info": {
   "codemirror_mode": "r",
   "file_extension": ".r",
   "mimetype": "text/x-r-source",
   "name": "R",
   "pygments_lexer": "r",
   "version": "3.6.1"
  }
 },
 "nbformat": 4,
 "nbformat_minor": 2
}
